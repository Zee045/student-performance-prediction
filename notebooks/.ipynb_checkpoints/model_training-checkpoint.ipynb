{
 "cells": [
  {
   "cell_type": "code",
   "execution_count": 1,
   "id": "3ab90816-40b6-4140-bf9e-6b1762b606e7",
   "metadata": {},
   "outputs": [
    {
     "name": "stdout",
     "output_type": "stream",
     "text": [
      "C:\\Users\\shaza\\PycharmProjects\\student-performance-prediction\\notebooks\n"
     ]
    }
   ],
   "source": [
    "import os\n",
    "print(os.getcwd())\n"
   ]
  },
  {
   "cell_type": "code",
   "execution_count": 2,
   "id": "b8d353a6-95d1-4666-ba26-4b6ed1213f25",
   "metadata": {},
   "outputs": [],
   "source": [
    "import os\n",
    "os.chdir('C:\\\\Users\\\\shaza\\\\PycharmProjects\\\\student-performance-prediction')\n"
   ]
  },
  {
   "cell_type": "code",
   "execution_count": 3,
   "id": "983a16d5-d7b9-44b3-ae37-da5dee7ae383",
   "metadata": {},
   "outputs": [
    {
     "name": "stdout",
     "output_type": "stream",
     "text": [
      "C:\\Users\\shaza\\PycharmProjects\\student-performance-prediction\n"
     ]
    }
   ],
   "source": [
    "print(os.getcwd())\n"
   ]
  },
  {
   "cell_type": "code",
   "execution_count": 4,
   "id": "e1a62f38-002d-4de8-99e3-3a7f19b7ae45",
   "metadata": {},
   "outputs": [],
   "source": [
    "# Import libraries\n",
    "from sklearn.model_selection import train_test_split\n",
    "from sklearn.linear_model import LogisticRegression\n",
    "from sklearn.ensemble import RandomForestClassifier\n",
    "from sklearn.metrics import classification_report\n",
    "import pandas as pd"
   ]
  },
  {
   "cell_type": "code",
   "execution_count": null,
   "id": "80a02930-4c7b-4947-b14a-494dfafc77ee",
   "metadata": {},
   "outputs": [],
   "source": [
    "# Load the preprocessed dataset\n",
    "data = pd.read_csv('../data/student-mat.csv', sep=';')"
   ]
  },
  {
   "cell_type": "code",
   "execution_count": null,
   "id": "c1a0bb3a-ff26-46f0-9818-1a6fc412077e",
   "metadata": {},
   "outputs": [],
   "source": [
    "# Split the data\n",
    "X = data.drop('G3', axis=1)\n",
    "y = (data['G3'] >= 10).astype(int)\n",
    "\n",
    "X_train, X_test, y_train, y_test = train_test_split(X, y, test_size=0.2, random_state=42)\n"
   ]
  },
  {
   "cell_type": "code",
   "execution_count": 5,
   "id": "c6ffea35-6d0b-44ff-bcff-762f2bbe8117",
   "metadata": {},
   "outputs": [],
   "source": [
    "# Logistic Regression\n",
    "lr_model = LogisticRegression()\n",
    "lr_model.fit(X_train, y_train)\n",
    "y_pred_lr = lr_model.predict(X_test)\n",
    "print(\"Logistic Regression Performance:\")\n",
    "print(classification_report(y_test, y_pred_lr))"
   ]
  },
  {
   "cell_type": "code",
   "execution_count": 6,
   "id": "cfd965a0-3ebf-4683-9740-f30e583aa00a",
   "metadata": {},
   "outputs": [
    {
     "name": "stdout",
     "output_type": "stream",
     "text": [
      "<class 'pandas.core.frame.DataFrame'>\n",
      "RangeIndex: 395 entries, 0 to 394\n",
      "Data columns (total 39 columns):\n",
      " #   Column         Non-Null Count  Dtype \n",
      "---  ------         --------------  ----- \n",
      " 0   school         395 non-null    object\n",
      " 1   age            395 non-null    int64 \n",
      " 2   address        395 non-null    object\n",
      " 3   famsize        395 non-null    object\n",
      " 4   Pstatus        395 non-null    object\n",
      " 5   Medu           395 non-null    int64 \n",
      " 6   Fedu           395 non-null    int64 \n",
      " 7   reason         395 non-null    object\n",
      " 8   guardian       395 non-null    object\n",
      " 9   traveltime     395 non-null    int64 \n",
      " 10  studytime      395 non-null    int64 \n",
      " 11  failures       395 non-null    int64 \n",
      " 12  schoolsup      395 non-null    object\n",
      " 13  famsup         395 non-null    object\n",
      " 14  paid           395 non-null    object\n",
      " 15  activities     395 non-null    object\n",
      " 16  nursery        395 non-null    object\n",
      " 17  higher         395 non-null    object\n",
      " 18  internet       395 non-null    object\n",
      " 19  romantic       395 non-null    object\n",
      " 20  famrel         395 non-null    int64 \n",
      " 21  freetime       395 non-null    int64 \n",
      " 22  goout          395 non-null    int64 \n",
      " 23  Dalc           395 non-null    int64 \n",
      " 24  Walc           395 non-null    int64 \n",
      " 25  health         395 non-null    int64 \n",
      " 26  absences       395 non-null    int64 \n",
      " 27  G1             395 non-null    int64 \n",
      " 28  G2             395 non-null    int64 \n",
      " 29  G3             395 non-null    int64 \n",
      " 30  sex_M          395 non-null    bool  \n",
      " 31  Mjob_health    395 non-null    bool  \n",
      " 32  Mjob_other     395 non-null    bool  \n",
      " 33  Mjob_services  395 non-null    bool  \n",
      " 34  Mjob_teacher   395 non-null    bool  \n",
      " 35  Fjob_health    395 non-null    bool  \n",
      " 36  Fjob_other     395 non-null    bool  \n",
      " 37  Fjob_services  395 non-null    bool  \n",
      " 38  Fjob_teacher   395 non-null    bool  \n",
      "dtypes: bool(9), int64(16), object(14)\n",
      "memory usage: 96.2+ KB\n"
     ]
    }
   ],
   "source": [
    "data.info()\n"
   ]
  },
  {
   "cell_type": "code",
   "execution_count": null,
   "id": "e5ade9f1-e57f-45a2-bd01-a87a3e142351",
   "metadata": {},
   "outputs": [],
   "source": [
    "# Random Forest\n",
    "rf_model = RandomForestClassifier(n_estimators=100, random_state=42)\n",
    "rf_model.fit(X_train, y_train)\n",
    "y_pred_rf = rf_model.predict(X_test)\n",
    "print(\"Random Forest Performance:\")\n",
    "print(classification_report(y_test, y_pred_rf))"
   ]
  }
 ],
 "metadata": {
  "kernelspec": {
   "display_name": "Python 3 (ipykernel)",
   "language": "python",
   "name": "python3"
  },
  "language_info": {
   "codemirror_mode": {
    "name": "ipython",
    "version": 3
   },
   "file_extension": ".py",
   "mimetype": "text/x-python",
   "name": "python",
   "nbconvert_exporter": "python",
   "pygments_lexer": "ipython3",
   "version": "3.12.6"
  }
 },
 "nbformat": 4,
 "nbformat_minor": 5
}
