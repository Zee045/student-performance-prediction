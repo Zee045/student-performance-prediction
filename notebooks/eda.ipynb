import pandas as pd
import seaborn as sns
import matplotlib.pyplot as plt

data = pd.read_csv('data/student-mat.csv', sep=';')

# Correlation heatmap
plt.figure(figsize=(10, 8))
sns.heatmap(data.corr(), annot=True, cmap='coolwarm')
plt.title('Correlation Heatmap')
plt.show()

# Distribution of grades
sns.histplot(data['G3'], kde=True)
plt.title('Distribution of Final Grades')
plt.xlabel('Grades')
plt.show()
